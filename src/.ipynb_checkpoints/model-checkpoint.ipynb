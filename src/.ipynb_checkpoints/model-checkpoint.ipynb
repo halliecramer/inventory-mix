{
 "cells": [
  {
   "cell_type": "code",
   "execution_count": 1,
   "metadata": {},
   "outputs": [],
   "source": [
    "import pandas as pd\n",
    "import numpy as np\n",
    "import matplotlib.pyplot as plt\n",
    "import seaborn as sns\n",
    "%matplotlib inline"
   ]
  },
  {
   "cell_type": "code",
   "execution_count": 2,
   "metadata": {},
   "outputs": [],
   "source": [
    "from sklearn.preprocessing import LabelEncoder\n",
    "import random\n",
    "from sklearn.linear_model import LogisticRegression\n",
    "from sklearn.ensemble import RandomForestClassifier\n",
    "from sklearn.ensemble import GradientBoostingClassifier\n",
    "from sklearn.ensemble import AdaBoostClassifier\n",
    "from sklearn.model_selection import train_test_split\n",
    "from sklearn.preprocessing import StandardScaler\n",
    "from sklearn.metrics import confusion_matrix, classification_report\n",
    "from sklearn.metrics import accuracy_score, precision_score, recall_score, f1_score, roc_curve\n",
    "from imblearn.over_sampling import SMOTE\n",
    "from sklearn.model_selection import GridSearchCV\n",
    "from sklearn.calibration import CalibratedClassifierCV\n",
    "from sklearn.calibration import calibration_curve\n",
    "import pickle\n",
    "import psycopg2\n",
    "import config\n",
    "from datetime import datetime\n",
    "from psycopg2.extras import execute_values\n",
    "from sklearn.svm import SVC\n",
    "import bisect"
   ]
  },
  {
   "cell_type": "code",
   "execution_count": 3,
   "metadata": {},
   "outputs": [],
   "source": [
    "conn = psycopg2.connect(dbname=config.redshift['dbname'],\n",
    "                            host=config.redshift['host'],\n",
    "                            port=config.redshift['port'],\n",
    "                            user=config.redshift['user'],\n",
    "                            password=config.redshift['password'])"
   ]
  },
  {
   "cell_type": "code",
   "execution_count": 70,
   "metadata": {},
   "outputs": [],
   "source": [
    "with open('sql/logit_reservations.sql','r') as f:\n",
    "            sql = f.read()"
   ]
  },
  {
   "cell_type": "code",
   "execution_count": 71,
   "metadata": {},
   "outputs": [],
   "source": [
    "df = pd.read_sql(sql, conn)"
   ]
  },
  {
   "cell_type": "code",
   "execution_count": 72,
   "metadata": {},
   "outputs": [],
   "source": [
    "rolling_avg_spend = pd.DataFrame(df.groupby(['date_start','region'])['daily_spend'].mean().rolling(window=21, min_periods=1).mean()).reset_index()\n",
    "rolling_avg_spend.columns = ['date_start','region','rolling_avg_spend']\n",
    "df = pd.merge(df, rolling_avg_spend, how='left', on=['date_start','region'])\n",
    "df['year'] = df['date_start'].apply(lambda x: x.year)"
   ]
  },
  {
   "cell_type": "code",
   "execution_count": 73,
   "metadata": {},
   "outputs": [],
   "source": [
    "orig = df.copy()"
   ]
  },
  {
   "cell_type": "code",
   "execution_count": 75,
   "metadata": {},
   "outputs": [],
   "source": [
    "# df.head(3)"
   ]
  },
  {
   "cell_type": "code",
   "execution_count": 76,
   "metadata": {},
   "outputs": [],
   "source": [
    "conn.close()"
   ]
  },
  {
   "cell_type": "code",
   "execution_count": 10,
   "metadata": {},
   "outputs": [],
   "source": [
    "# model_list = ['Focus','Fusion','Fiesta','Escape','C-Max Hybrid','Explorer','Edge','Mustang']\n",
    "\n",
    "# for var in model_list:\n",
    "#     daily_counts = df[df['model']==var].groupby(['date_start','region'])['vin'].count().reset_index()\n",
    "#     daily_counts = pd.DataFrame(daily_counts)\n",
    "#     daily_counts.columns = ['date_start', 'region', (str(var) + '_count').lower()]\n",
    "\n",
    "#     df = pd.merge(df, daily_counts, how='left', on=['date_start','region'])"
   ]
  },
  {
   "cell_type": "code",
   "execution_count": 102,
   "metadata": {},
   "outputs": [],
   "source": [
    "target = ['is_reserved']\n",
    "num_cols = ['daily_spend', 'number_available_cars']\n",
    "cat_cols = ['region', 'day_of_week', 'month', 'model', 'model_year', 'alg_trim', 'color']\n",
    "features = num_cols + cat_cols"
   ]
  },
  {
   "cell_type": "code",
   "execution_count": 103,
   "metadata": {},
   "outputs": [],
   "source": [
    "for var in cat_cols:\n",
    "    label = LabelEncoder()\n",
    "    df[var] = label.fit_transform(df[var].astype('str'))"
   ]
  },
  {
   "cell_type": "code",
   "execution_count": 141,
   "metadata": {},
   "outputs": [],
   "source": [
    "X1 = df[features].fillna(0)\n",
    "y1 = df[target].values.ravel()"
   ]
  },
  {
   "cell_type": "code",
   "execution_count": 142,
   "metadata": {},
   "outputs": [
    {
     "data": {
      "text/html": [
       "<div>\n",
       "<style scoped>\n",
       "    .dataframe tbody tr th:only-of-type {\n",
       "        vertical-align: middle;\n",
       "    }\n",
       "\n",
       "    .dataframe tbody tr th {\n",
       "        vertical-align: top;\n",
       "    }\n",
       "\n",
       "    .dataframe thead th {\n",
       "        text-align: right;\n",
       "    }\n",
       "</style>\n",
       "<table border=\"1\" class=\"dataframe\">\n",
       "  <thead>\n",
       "    <tr style=\"text-align: right;\">\n",
       "      <th></th>\n",
       "      <th>daily_spend</th>\n",
       "      <th>number_available_cars</th>\n",
       "      <th>region</th>\n",
       "      <th>day_of_week</th>\n",
       "      <th>month</th>\n",
       "      <th>model</th>\n",
       "      <th>model_year</th>\n",
       "      <th>alg_trim</th>\n",
       "      <th>color</th>\n",
       "    </tr>\n",
       "  </thead>\n",
       "  <tbody>\n",
       "    <tr>\n",
       "      <th>count</th>\n",
       "      <td>24745.000000</td>\n",
       "      <td>24745.000000</td>\n",
       "      <td>24745.000000</td>\n",
       "      <td>24745.000000</td>\n",
       "      <td>24745.000000</td>\n",
       "      <td>24745.000000</td>\n",
       "      <td>24745.000000</td>\n",
       "      <td>24745.000000</td>\n",
       "      <td>24745.000000</td>\n",
       "    </tr>\n",
       "    <tr>\n",
       "      <th>mean</th>\n",
       "      <td>2106.556808</td>\n",
       "      <td>39.419802</td>\n",
       "      <td>0.598909</td>\n",
       "      <td>3.011033</td>\n",
       "      <td>5.384441</td>\n",
       "      <td>9.653263</td>\n",
       "      <td>0.292665</td>\n",
       "      <td>23.367670</td>\n",
       "      <td>5.241140</td>\n",
       "    </tr>\n",
       "    <tr>\n",
       "      <th>std</th>\n",
       "      <td>798.364741</td>\n",
       "      <td>16.015230</td>\n",
       "      <td>0.490129</td>\n",
       "      <td>2.027175</td>\n",
       "      <td>3.761166</td>\n",
       "      <td>4.086208</td>\n",
       "      <td>0.641116</td>\n",
       "      <td>13.323075</td>\n",
       "      <td>2.936347</td>\n",
       "    </tr>\n",
       "    <tr>\n",
       "      <th>min</th>\n",
       "      <td>0.000000</td>\n",
       "      <td>1.000000</td>\n",
       "      <td>0.000000</td>\n",
       "      <td>0.000000</td>\n",
       "      <td>0.000000</td>\n",
       "      <td>0.000000</td>\n",
       "      <td>0.000000</td>\n",
       "      <td>0.000000</td>\n",
       "      <td>0.000000</td>\n",
       "    </tr>\n",
       "    <tr>\n",
       "      <th>25%</th>\n",
       "      <td>1542.970000</td>\n",
       "      <td>26.000000</td>\n",
       "      <td>0.000000</td>\n",
       "      <td>1.000000</td>\n",
       "      <td>2.000000</td>\n",
       "      <td>8.000000</td>\n",
       "      <td>0.000000</td>\n",
       "      <td>7.000000</td>\n",
       "      <td>5.000000</td>\n",
       "    </tr>\n",
       "    <tr>\n",
       "      <th>50%</th>\n",
       "      <td>2025.100000</td>\n",
       "      <td>37.000000</td>\n",
       "      <td>1.000000</td>\n",
       "      <td>3.000000</td>\n",
       "      <td>5.000000</td>\n",
       "      <td>9.000000</td>\n",
       "      <td>0.000000</td>\n",
       "      <td>25.000000</td>\n",
       "      <td>6.000000</td>\n",
       "    </tr>\n",
       "    <tr>\n",
       "      <th>75%</th>\n",
       "      <td>2702.830000</td>\n",
       "      <td>52.000000</td>\n",
       "      <td>1.000000</td>\n",
       "      <td>5.000000</td>\n",
       "      <td>9.000000</td>\n",
       "      <td>14.000000</td>\n",
       "      <td>0.000000</td>\n",
       "      <td>36.000000</td>\n",
       "      <td>8.000000</td>\n",
       "    </tr>\n",
       "    <tr>\n",
       "      <th>max</th>\n",
       "      <td>4693.320000</td>\n",
       "      <td>76.000000</td>\n",
       "      <td>1.000000</td>\n",
       "      <td>6.000000</td>\n",
       "      <td>11.000000</td>\n",
       "      <td>15.000000</td>\n",
       "      <td>2.000000</td>\n",
       "      <td>52.000000</td>\n",
       "      <td>9.000000</td>\n",
       "    </tr>\n",
       "  </tbody>\n",
       "</table>\n",
       "</div>"
      ],
      "text/plain": [
       "        daily_spend  number_available_cars        region   day_of_week  \\\n",
       "count  24745.000000           24745.000000  24745.000000  24745.000000   \n",
       "mean    2106.556808              39.419802      0.598909      3.011033   \n",
       "std      798.364741              16.015230      0.490129      2.027175   \n",
       "min        0.000000               1.000000      0.000000      0.000000   \n",
       "25%     1542.970000              26.000000      0.000000      1.000000   \n",
       "50%     2025.100000              37.000000      1.000000      3.000000   \n",
       "75%     2702.830000              52.000000      1.000000      5.000000   \n",
       "max     4693.320000              76.000000      1.000000      6.000000   \n",
       "\n",
       "              month         model    model_year      alg_trim         color  \n",
       "count  24745.000000  24745.000000  24745.000000  24745.000000  24745.000000  \n",
       "mean       5.384441      9.653263      0.292665     23.367670      5.241140  \n",
       "std        3.761166      4.086208      0.641116     13.323075      2.936347  \n",
       "min        0.000000      0.000000      0.000000      0.000000      0.000000  \n",
       "25%        2.000000      8.000000      0.000000      7.000000      5.000000  \n",
       "50%        5.000000      9.000000      0.000000     25.000000      6.000000  \n",
       "75%        9.000000     14.000000      0.000000     36.000000      8.000000  \n",
       "max       11.000000     15.000000      2.000000     52.000000      9.000000  "
      ]
     },
     "execution_count": 142,
     "metadata": {},
     "output_type": "execute_result"
    }
   ],
   "source": [
    "X1.describe()"
   ]
  },
  {
   "cell_type": "code",
   "execution_count": 147,
   "metadata": {},
   "outputs": [],
   "source": [
    "X_train, X_test, y_train, y_test = train_test_split(X1, y1, test_size=0.25, random_state=101)"
   ]
  },
  {
   "cell_type": "code",
   "execution_count": 170,
   "metadata": {},
   "outputs": [],
   "source": [
    "# y_train = y_train.ravel()\n",
    "ros = SMOTE()\n",
    "X_train, y_train = ros.fit_sample(X_train, y_train)\n",
    "\n",
    "# scaler = StandardScaler()\n",
    "# scaler.fit(X_train)\n",
    "\n",
    "# X_train = scaler.transform(X_train)\n",
    "# X_test = scaler.transform(X_test)"
   ]
  },
  {
   "cell_type": "code",
   "execution_count": 171,
   "metadata": {},
   "outputs": [],
   "source": [
    "m = RandomForestClassifier(n_estimators=100, max_depth=45,\n",
    "                                       max_features='auto', min_samples_leaf=10)"
   ]
  },
  {
   "cell_type": "code",
   "execution_count": 172,
   "metadata": {},
   "outputs": [],
   "source": [
    "model = m.fit(X_train, y_train)"
   ]
  },
  {
   "cell_type": "code",
   "execution_count": 138,
   "metadata": {},
   "outputs": [
    {
     "name": "stdout",
     "output_type": "stream",
     "text": [
      "[[5469  195]\n",
      " [ 414  109]]\n",
      "\n",
      "\n",
      "              precision    recall  f1-score   support\n",
      "\n",
      "           0       0.93      0.97      0.95      5664\n",
      "           1       0.36      0.21      0.26       523\n",
      "\n",
      "   micro avg       0.90      0.90      0.90      6187\n",
      "   macro avg       0.64      0.59      0.61      6187\n",
      "weighted avg       0.88      0.90      0.89      6187\n",
      "\n"
     ]
    }
   ],
   "source": [
    "predictions = m.predict(X_test)\n",
    "\n",
    "print(confusion_matrix(y_test, predictions))\n",
    "print('\\n')\n",
    "print(classification_report(y_test, predictions))"
   ]
  },
  {
   "cell_type": "code",
   "execution_count": 21,
   "metadata": {},
   "outputs": [],
   "source": [
    "calibrated = CalibratedClassifierCV(model, method='sigmoid', cv='prefit')\n",
    "calibrated.fit(X1, y1)\n",
    "scores = calibrated.predict_proba(X1)[:, 1]\n",
    "y_pred = m.predict(X1)"
   ]
  },
  {
   "cell_type": "code",
   "execution_count": 23,
   "metadata": {},
   "outputs": [],
   "source": [
    "inventory_scores = pd.concat([orig[features], pd.Series(y1), pd.Series(y_pred), pd.Series(scores)], axis=1)\n",
    "inventory_scores.columns = features + ['is_reserved', 'predict_reserved', 'proba_reserved']"
   ]
  },
  {
   "cell_type": "code",
   "execution_count": 24,
   "metadata": {},
   "outputs": [
    {
     "name": "stdout",
     "output_type": "stream",
     "text": [
      "\n",
      "20 Best performing cars: \n",
      "                                                                           mean\n",
      "region                 model    model_year alg_trim            color           \n",
      "San Francisco Bay Area Focus    2015       4dr Sdn SE          Blue    0.771979\n",
      "                       Fiesta   2015       4dr Sdn SE          Blue    0.721571\n",
      "                                           4dr Sdn Titanium    Red     0.669204\n",
      "                       Fusion   2015       4dr Sdn S           Silver  0.645638\n",
      "                       Fiesta   2015       4dr Sdn SE          Grey    0.612803\n",
      "                       Fusion   2015       4dr Sdn S           Red     0.548865\n",
      "                       Focus    2015       4dr Sdn S           Silver  0.546277\n",
      "                       Explorer 2015       4dr Wgn Limited     Grey    0.522840\n",
      "                       Focus    2015       4dr Sdn S           Grey    0.516215\n",
      "                                           4dr Sdn SE          Grey    0.515787\n",
      "                                           5dr HB SE           Blue    0.499134\n",
      "                       Fiesta   2015       5dr HB SE           Green   0.477474\n",
      "Los Angeles            Focus    2015       5dr HB SE           Red     0.472616\n",
      "San Francisco Bay Area Focus    2015       4dr Sdn SE          Red     0.465036\n",
      "                       Fiesta   2015       5dr HB S            Silver  0.464807\n",
      "                       Explorer 2015       4dr Wgn Limited 4WD Grey    0.452837\n",
      "                       Fusion   2015       4dr Sdn S           Grey    0.437167\n",
      "                       Fiesta   2015       4dr Sdn SE          Red     0.434470\n",
      "                       Fusion   2015       4dr Sdn Hybrid SE   Silver  0.427512\n",
      "                       Focus    2015       4dr Sdn S           Black   0.415994\n",
      "\n",
      "20 Worst performing cars: \n",
      "                                                                               mean\n",
      "region                 model        model_year alg_trim            color           \n",
      "Los Angeles            Continental  2017       4dr Sdn Select AWD  White   0.013215\n",
      "                       MKZ          2017       4dr Sdn Reserve     Black   0.013245\n",
      "                       Continental  2017       4dr Sdn Reserve     White   0.013301\n",
      "                       MKX          2017       4dr Wgn Premiere    White   0.013307\n",
      "                       MKC          2017       4dr Wgn Select      Black   0.013332\n",
      "                       Navigator    2017       4dr Wgn Reserve     White   0.013622\n",
      "                       MKZ          2017       4dr Sdn Reserve AWD Black   0.014200\n",
      "                       MKX          2017       4dr Wgn Select      Black   0.014290\n",
      "                       MKC          2017       4dr Wgn Reserve AWD Red     0.014412\n",
      "                                               4dr Wgn Select      Gold    0.014489\n",
      "                       MKZ          2017       4dr Sdn Reserve     Red     0.014947\n",
      "                       MKC          2017       4dr Wgn Select AWD  Silver  0.015073\n",
      "                       MKX          2017       4dr Wgn Reserve AWD Silver  0.015155\n",
      "                       C-Max Hybrid 2016       5dr HB SEL          White   0.015705\n",
      "                       Explorer     2016       4dr Wgn XLT         White   0.015787\n",
      "San Francisco Bay Area Fusion       2016       4dr Sdn SE          Silver  0.015810\n",
      "Los Angeles            Edge         2015       4dr Wgn SEL         White   0.016108\n",
      "                       MKZ          2017       4dr Sdn Reserve AWD Red     0.016183\n",
      "San Francisco Bay Area C-Max Hybrid 2016       5dr HB SEL          White   0.016327\n",
      "Los Angeles            Explorer     2016       4dr Wgn Sport 4WD   White   0.016416\n"
     ]
    }
   ],
   "source": [
    "performance = inventory_scores.groupby(['region','model','model_year','alg_trim','color'])['proba_reserved'].agg(['mean'])\n",
    "print(\"\\n20 Best performing cars: \")\n",
    "print(performance.sort_values(by='mean',ascending=False).head(20))\n",
    "print(\"\\n20 Worst performing cars: \")\n",
    "print(performance.sort_values(by='mean',ascending=True).head(20))"
   ]
  },
  {
   "cell_type": "code",
   "execution_count": 158,
   "metadata": {},
   "outputs": [],
   "source": [
    "from sklearn.ensemble.forest import _generate_unsampled_indices"
   ]
  },
  {
   "cell_type": "code",
   "execution_count": 161,
   "metadata": {},
   "outputs": [],
   "source": [
    "def oob_classifier_accuracy(rf, X_train, y_train):\n",
    "    X = X_train\n",
    "    y = y_train\n",
    "\n",
    "    n_samples = len(X)\n",
    "    n_classes = len(np.unique(y))\n",
    "    predictions = np.zeros((n_samples, n_classes))\n",
    "    for tree in rf.estimators_:\n",
    "        unsampled_indices = _generate_unsampled_indices(tree.random_state, n_samples)\n",
    "        tree_preds = tree.predict_proba(X[unsampled_indices, :])\n",
    "        predictions[unsampled_indices] += tree_preds\n",
    "\n",
    "    predicted_class_indexes = np.argmax(predictions, axis=1)\n",
    "    predicted_classes = [rf.classes_[i] for i in predicted_class_indexes]\n",
    "\n",
    "    oob_score = np.mean(y == predicted_classes)\n",
    "    return oob_score"
   ]
  },
  {
   "cell_type": "code",
   "execution_count": 178,
   "metadata": {},
   "outputs": [
    {
     "data": {
      "text/plain": [
       "0.9400494437577256"
      ]
     },
     "execution_count": 178,
     "metadata": {},
     "output_type": "execute_result"
    }
   ],
   "source": [
    "oob_classifier_accuracy(model, X_train, y_train)"
   ]
  },
  {
   "cell_type": "code",
   "execution_count": 196,
   "metadata": {},
   "outputs": [],
   "source": [
    "def permutation_importances(m, X_train, y_train):\n",
    "    baseline = oob_classifier_accuracy(m, X_train, y_train)\n",
    "    imp = []\n",
    "    for col in range(X_train.shape[1]):\n",
    "        save = X_train[:, col].copy()\n",
    "        X_train[:, col] = np.random.permutation(X_train[:, col])\n",
    "        n = oob_classifier_accuracy(m, X_train, y_train)\n",
    "        X_train[:, col] = save\n",
    "        imp.append(baseline - n)\n",
    "    return np.array(imp)"
   ]
  },
  {
   "cell_type": "code",
   "execution_count": 208,
   "metadata": {},
   "outputs": [
    {
     "data": {
      "text/plain": [
       "(9,)"
      ]
     },
     "execution_count": 208,
     "metadata": {},
     "output_type": "execute_result"
    }
   ],
   "source": [
    "imp = permutation_importances(model, X_train, y_train)\n",
    "imp.shape"
   ]
  },
  {
   "cell_type": "code",
   "execution_count": 207,
   "metadata": {},
   "outputs": [
    {
     "name": "stdout",
     "output_type": "stream",
     "text": [
      "                 Feature     Value\n",
      "8                  color  0.105951\n",
      "5                  model  0.098122\n",
      "2                 region  0.084408\n",
      "7               alg_trim  0.049561\n",
      "6             model_year  0.044617\n",
      "4                  month  0.030814\n",
      "1  number_available_cars  0.027694\n",
      "0            daily_spend  0.021161\n",
      "3            day_of_week  0.015304\n"
     ]
    }
   ],
   "source": [
    "feature_imp = pd.DataFrame(imp, np.array(X1.columns)).reset_index()\n",
    "feature_imp.columns = ['Feature','Value']\n",
    "print(feature_imp.sort_values('Value', ascending=False))"
   ]
  },
  {
   "cell_type": "code",
   "execution_count": 37,
   "metadata": {},
   "outputs": [],
   "source": [
    "from sklearn.linear_model import LogisticRegression\n",
    "import statsmodels.discrete.discrete_model as sm"
   ]
  },
  {
   "cell_type": "code",
   "execution_count": 38,
   "metadata": {},
   "outputs": [
    {
     "name": "stdout",
     "output_type": "stream",
     "text": [
      "Optimization terminated successfully.\n",
      "         Current function value: 0.615864\n",
      "         Iterations 6\n",
      "                         Results: Logit\n",
      "=================================================================\n",
      "Model:              Logit            Pseudo R-squared: 0.111     \n",
      "Dependent Variable: y                AIC:              41812.9756\n",
      "Date:               2019-01-02 12:33 BIC:              41888.8647\n",
      "No. Observations:   33932            Log-Likelihood:   -20897.   \n",
      "Df Model:           8                LL-Null:          -23520.   \n",
      "Df Residuals:       33923            LLR p-value:      0.0000    \n",
      "Converged:          1.0000           Scale:            1.0000    \n",
      "No. Iterations:     6.0000                                       \n",
      "-------------------------------------------------------------------\n",
      "          Coef.    Std.Err.      z       P>|z|     [0.025    0.975]\n",
      "-------------------------------------------------------------------\n",
      "x1        0.0002     0.0000    11.2927   0.0000    0.0002    0.0002\n",
      "x2       -0.0388     0.0009   -44.4058   0.0000   -0.0405   -0.0371\n",
      "x3        1.1114     0.0302    36.8318   0.0000    1.0523    1.1705\n",
      "x4        0.0603     0.0059    10.2072   0.0000    0.0487    0.0719\n",
      "x5       -0.0027     0.0037    -0.7368   0.4612   -0.0099    0.0045\n",
      "x6        0.0543     0.0037    14.4965   0.0000    0.0470    0.0617\n",
      "x7       -1.2213     0.0345   -35.3780   0.0000   -1.2889   -1.1536\n",
      "x8       -0.0009     0.0009    -0.9733   0.3304   -0.0026    0.0009\n",
      "x9        0.0019     0.0042     0.4636   0.6429   -0.0062    0.0101\n",
      "=================================================================\n",
      "\n"
     ]
    }
   ],
   "source": [
    "logit_model=sm.Logit(y_train,X_train)\n",
    "result=logit_model.fit()\n",
    "print(result.summary2())"
   ]
  },
  {
   "cell_type": "code",
   "execution_count": 39,
   "metadata": {},
   "outputs": [],
   "source": [
    "from sklearn.linear_model import LogisticRegression\n",
    "from sklearn.metrics import confusion_matrix, classification_report"
   ]
  },
  {
   "cell_type": "code",
   "execution_count": 40,
   "metadata": {},
   "outputs": [
    {
     "name": "stderr",
     "output_type": "stream",
     "text": [
      "/Users/halliecramer/anaconda3/lib/python3.6/site-packages/sklearn/linear_model/logistic.py:432: FutureWarning: Default solver will be changed to 'lbfgs' in 0.22. Specify a solver to silence this warning.\n",
      "  FutureWarning)\n"
     ]
    }
   ],
   "source": [
    "logreg = LogisticRegression(solver='warn')\n",
    "logreg.fit(X_train, y_train)\n",
    "y_pred = logreg.predict(X_test)"
   ]
  },
  {
   "cell_type": "code",
   "execution_count": 41,
   "metadata": {},
   "outputs": [
    {
     "name": "stdout",
     "output_type": "stream",
     "text": [
      "[[3668 1997]\n",
      " [ 173  343]]\n",
      "\n",
      "\n",
      "              precision    recall  f1-score   support\n",
      "\n",
      "           0       0.95      0.65      0.77      5665\n",
      "           1       0.15      0.66      0.24       516\n",
      "\n",
      "   micro avg       0.65      0.65      0.65      6181\n",
      "   macro avg       0.55      0.66      0.51      6181\n",
      "weighted avg       0.89      0.65      0.73      6181\n",
      "\n"
     ]
    }
   ],
   "source": [
    "print(confusion_matrix(y_test, y_pred))\n",
    "print('\\n')\n",
    "print(classification_report(y_test, y_pred))"
   ]
  },
  {
   "cell_type": "code",
   "execution_count": 42,
   "metadata": {},
   "outputs": [],
   "source": [
    "conn = psycopg2.connect(dbname=config.redshift['dbname'],\n",
    "                            host=config.redshift['host'],\n",
    "                            port=config.redshift['port'],\n",
    "                            user=config.redshift['user'],\n",
    "                            password=config.redshift['password'])"
   ]
  },
  {
   "cell_type": "code",
   "execution_count": 4,
   "metadata": {},
   "outputs": [],
   "source": [
    "with open('sql/count_reservations.sql','r') as f:\n",
    "            sql = f.read()"
   ]
  },
  {
   "cell_type": "code",
   "execution_count": 5,
   "metadata": {},
   "outputs": [],
   "source": [
    "df = pd.read_sql(sql, conn)"
   ]
  },
  {
   "cell_type": "code",
   "execution_count": 6,
   "metadata": {},
   "outputs": [
    {
     "name": "stdout",
     "output_type": "stream",
     "text": [
      "<class 'pandas.core.frame.DataFrame'>\n",
      "RangeIndex: 737 entries, 0 to 736\n",
      "Data columns (total 27 columns):\n",
      "date_start        737 non-null datetime64[ns]\n",
      "day_of_week       737 non-null object\n",
      "region            736 non-null object\n",
      "day_num           737 non-null int64\n",
      "week_num          737 non-null object\n",
      "month             737 non-null object\n",
      "daily_spend       737 non-null float64\n",
      "cars_available    737 non-null int64\n",
      "reservations      737 non-null int64\n",
      "sedan             737 non-null int64\n",
      "suv               737 non-null int64\n",
      "hatchback         737 non-null int64\n",
      "wagon             737 non-null int64\n",
      "sports_car        737 non-null int64\n",
      "pickup_truck      737 non-null int64\n",
      "focus             737 non-null int64\n",
      "fusion            737 non-null int64\n",
      "escape            737 non-null int64\n",
      "explorer          737 non-null int64\n",
      "edge              737 non-null int64\n",
      "mustang           737 non-null int64\n",
      "cmax_hybrid       737 non-null int64\n",
      "fiesta            737 non-null int64\n",
      "other             737 non-null int64\n",
      "my_2015           737 non-null int64\n",
      "my_2016           737 non-null int64\n",
      "my_2017           737 non-null int64\n",
      "dtypes: datetime64[ns](1), float64(1), int64(21), object(4)\n",
      "memory usage: 155.5+ KB\n"
     ]
    }
   ],
   "source": [
    "df.info()"
   ]
  },
  {
   "cell_type": "code",
   "execution_count": 7,
   "metadata": {},
   "outputs": [
    {
     "data": {
      "text/html": [
       "<div>\n",
       "<style scoped>\n",
       "    .dataframe tbody tr th:only-of-type {\n",
       "        vertical-align: middle;\n",
       "    }\n",
       "\n",
       "    .dataframe tbody tr th {\n",
       "        vertical-align: top;\n",
       "    }\n",
       "\n",
       "    .dataframe thead th {\n",
       "        text-align: right;\n",
       "    }\n",
       "</style>\n",
       "<table border=\"1\" class=\"dataframe\">\n",
       "  <thead>\n",
       "    <tr style=\"text-align: right;\">\n",
       "      <th></th>\n",
       "      <th>cars_available</th>\n",
       "      <th>focus</th>\n",
       "      <th>fusion</th>\n",
       "      <th>escape</th>\n",
       "      <th>explorer</th>\n",
       "      <th>edge</th>\n",
       "      <th>mustang</th>\n",
       "      <th>cmax_hybrid</th>\n",
       "      <th>fiesta</th>\n",
       "      <th>other</th>\n",
       "      <th>my_2015</th>\n",
       "      <th>my_2016</th>\n",
       "      <th>my_2017</th>\n",
       "    </tr>\n",
       "  </thead>\n",
       "  <tbody>\n",
       "    <tr>\n",
       "      <th>count</th>\n",
       "      <td>737.000000</td>\n",
       "      <td>737.000000</td>\n",
       "      <td>737.000000</td>\n",
       "      <td>737.000000</td>\n",
       "      <td>737.000000</td>\n",
       "      <td>737.000000</td>\n",
       "      <td>737.000000</td>\n",
       "      <td>737.000000</td>\n",
       "      <td>737.000000</td>\n",
       "      <td>737.000000</td>\n",
       "      <td>737.000000</td>\n",
       "      <td>737.000000</td>\n",
       "      <td>737.000000</td>\n",
       "    </tr>\n",
       "    <tr>\n",
       "      <th>mean</th>\n",
       "      <td>32.449118</td>\n",
       "      <td>2.312076</td>\n",
       "      <td>6.553596</td>\n",
       "      <td>8.974220</td>\n",
       "      <td>4.265943</td>\n",
       "      <td>1.778833</td>\n",
       "      <td>1.413840</td>\n",
       "      <td>0.533243</td>\n",
       "      <td>0.949796</td>\n",
       "      <td>5.667571</td>\n",
       "      <td>26.010855</td>\n",
       "      <td>3.000000</td>\n",
       "      <td>3.438263</td>\n",
       "    </tr>\n",
       "    <tr>\n",
       "      <th>std</th>\n",
       "      <td>15.142814</td>\n",
       "      <td>2.173901</td>\n",
       "      <td>4.874531</td>\n",
       "      <td>5.272018</td>\n",
       "      <td>3.428199</td>\n",
       "      <td>1.453514</td>\n",
       "      <td>1.590042</td>\n",
       "      <td>0.776205</td>\n",
       "      <td>1.159286</td>\n",
       "      <td>4.734178</td>\n",
       "      <td>15.702824</td>\n",
       "      <td>4.838983</td>\n",
       "      <td>4.495384</td>\n",
       "    </tr>\n",
       "    <tr>\n",
       "      <th>min</th>\n",
       "      <td>0.000000</td>\n",
       "      <td>0.000000</td>\n",
       "      <td>0.000000</td>\n",
       "      <td>0.000000</td>\n",
       "      <td>0.000000</td>\n",
       "      <td>0.000000</td>\n",
       "      <td>0.000000</td>\n",
       "      <td>0.000000</td>\n",
       "      <td>0.000000</td>\n",
       "      <td>0.000000</td>\n",
       "      <td>0.000000</td>\n",
       "      <td>0.000000</td>\n",
       "      <td>0.000000</td>\n",
       "    </tr>\n",
       "    <tr>\n",
       "      <th>25%</th>\n",
       "      <td>21.000000</td>\n",
       "      <td>1.000000</td>\n",
       "      <td>3.000000</td>\n",
       "      <td>5.000000</td>\n",
       "      <td>1.000000</td>\n",
       "      <td>1.000000</td>\n",
       "      <td>0.000000</td>\n",
       "      <td>0.000000</td>\n",
       "      <td>0.000000</td>\n",
       "      <td>2.000000</td>\n",
       "      <td>14.000000</td>\n",
       "      <td>0.000000</td>\n",
       "      <td>0.000000</td>\n",
       "    </tr>\n",
       "    <tr>\n",
       "      <th>50%</th>\n",
       "      <td>29.000000</td>\n",
       "      <td>2.000000</td>\n",
       "      <td>5.000000</td>\n",
       "      <td>8.000000</td>\n",
       "      <td>4.000000</td>\n",
       "      <td>2.000000</td>\n",
       "      <td>1.000000</td>\n",
       "      <td>0.000000</td>\n",
       "      <td>1.000000</td>\n",
       "      <td>5.000000</td>\n",
       "      <td>23.000000</td>\n",
       "      <td>1.000000</td>\n",
       "      <td>1.000000</td>\n",
       "    </tr>\n",
       "    <tr>\n",
       "      <th>75%</th>\n",
       "      <td>42.000000</td>\n",
       "      <td>3.000000</td>\n",
       "      <td>10.000000</td>\n",
       "      <td>13.000000</td>\n",
       "      <td>6.000000</td>\n",
       "      <td>3.000000</td>\n",
       "      <td>2.000000</td>\n",
       "      <td>1.000000</td>\n",
       "      <td>2.000000</td>\n",
       "      <td>8.000000</td>\n",
       "      <td>34.000000</td>\n",
       "      <td>4.000000</td>\n",
       "      <td>8.000000</td>\n",
       "    </tr>\n",
       "    <tr>\n",
       "      <th>max</th>\n",
       "      <td>76.000000</td>\n",
       "      <td>12.000000</td>\n",
       "      <td>22.000000</td>\n",
       "      <td>23.000000</td>\n",
       "      <td>14.000000</td>\n",
       "      <td>7.000000</td>\n",
       "      <td>7.000000</td>\n",
       "      <td>4.000000</td>\n",
       "      <td>6.000000</td>\n",
       "      <td>18.000000</td>\n",
       "      <td>76.000000</td>\n",
       "      <td>22.000000</td>\n",
       "      <td>13.000000</td>\n",
       "    </tr>\n",
       "  </tbody>\n",
       "</table>\n",
       "</div>"
      ],
      "text/plain": [
       "       cars_available       focus      fusion      escape    explorer  \\\n",
       "count      737.000000  737.000000  737.000000  737.000000  737.000000   \n",
       "mean        32.449118    2.312076    6.553596    8.974220    4.265943   \n",
       "std         15.142814    2.173901    4.874531    5.272018    3.428199   \n",
       "min          0.000000    0.000000    0.000000    0.000000    0.000000   \n",
       "25%         21.000000    1.000000    3.000000    5.000000    1.000000   \n",
       "50%         29.000000    2.000000    5.000000    8.000000    4.000000   \n",
       "75%         42.000000    3.000000   10.000000   13.000000    6.000000   \n",
       "max         76.000000   12.000000   22.000000   23.000000   14.000000   \n",
       "\n",
       "             edge     mustang  cmax_hybrid      fiesta       other  \\\n",
       "count  737.000000  737.000000   737.000000  737.000000  737.000000   \n",
       "mean     1.778833    1.413840     0.533243    0.949796    5.667571   \n",
       "std      1.453514    1.590042     0.776205    1.159286    4.734178   \n",
       "min      0.000000    0.000000     0.000000    0.000000    0.000000   \n",
       "25%      1.000000    0.000000     0.000000    0.000000    2.000000   \n",
       "50%      2.000000    1.000000     0.000000    1.000000    5.000000   \n",
       "75%      3.000000    2.000000     1.000000    2.000000    8.000000   \n",
       "max      7.000000    7.000000     4.000000    6.000000   18.000000   \n",
       "\n",
       "          my_2015     my_2016     my_2017  \n",
       "count  737.000000  737.000000  737.000000  \n",
       "mean    26.010855    3.000000    3.438263  \n",
       "std     15.702824    4.838983    4.495384  \n",
       "min      0.000000    0.000000    0.000000  \n",
       "25%     14.000000    0.000000    0.000000  \n",
       "50%     23.000000    1.000000    1.000000  \n",
       "75%     34.000000    4.000000    8.000000  \n",
       "max     76.000000   22.000000   13.000000  "
      ]
     },
     "execution_count": 7,
     "metadata": {},
     "output_type": "execute_result"
    }
   ],
   "source": [
    "df[['cars_available','focus','fusion','escape','explorer','edge','mustang','cmax_hybrid','fiesta','other','my_2015','my_2016','my_2017']].describe()"
   ]
  },
  {
   "cell_type": "code",
   "execution_count": 8,
   "metadata": {},
   "outputs": [],
   "source": [
    "df = df[df['cars_available']>0]"
   ]
  },
  {
   "cell_type": "code",
   "execution_count": 9,
   "metadata": {},
   "outputs": [],
   "source": [
    "df['proportion_reserved'] = df['reservations'] / df['cars_available']\n",
    "df['rolling_avg_spend'] = df['daily_spend'].rolling(10, min_periods=1).mean()\n",
    "df['season'] = df['month'].apply(lambda x: 'winter' if np.isin(x, ['Dec','Jan','Feb']) == True\n",
    "                                    else ('spring' if np.isin(x, ['Mar','Apr','May']) == True\n",
    "                                    else ('summer' if np.isin(x, ['Jun','Jul','Aug']) == True\n",
    "                                    else 'fall')))\n",
    "\n",
    "listvar = ['focus','fusion','escape','explorer','edge','mustang','cmax_hybrid','fiesta','other','my_2015','my_2016','my_2017']\n",
    "for var in listvar:\n",
    "    new_prop = df[var] / df['cars_available']\n",
    "    new_prop = pd.DataFrame(new_prop, columns=[('prop_' + str(var)).lower()])\n",
    "    df = pd.merge(df, new_prop, left_index=True, right_index=True)"
   ]
  },
  {
   "cell_type": "code",
   "execution_count": 10,
   "metadata": {},
   "outputs": [],
   "source": [
    "target = ['proportion_reserved']\n",
    "num_cols = ['cars_available', 'rolling_avg_spend', 'prop_focus', 'prop_fusion', 'prop_escape',\n",
    "            'prop_explorer', 'prop_edge', 'prop_mustang', 'prop_cmax_hybrid', 'prop_fiesta',\n",
    "            'prop_other', 'prop_my_2015', 'prop_my_2016','prop_my_2017']\n",
    "cat_cols = ['region', 'season']"
   ]
  },
  {
   "cell_type": "code",
   "execution_count": 12,
   "metadata": {},
   "outputs": [],
   "source": [
    "# features = num_cols + cat_cols\n",
    "# for var in cat_cols:\n",
    "#     label = LabelEncoder()\n",
    "#     df[var] = label.fit_transform(df[var].astype('str'))\n",
    "import itertools as itt\n",
    "dummy_list = []\n",
    "for var in cat_cols:\n",
    "    x = pd.get_dummies(df[var])\n",
    "    dummy_list.append(list(x))\n",
    "    df = pd.concat([df, x], axis=1)\n",
    "dummy_list = list(itt.chain.from_iterable(dummy_list))"
   ]
  },
  {
   "cell_type": "code",
   "execution_count": 14,
   "metadata": {},
   "outputs": [],
   "source": [
    "features = num_cols + dummy_list"
   ]
  },
  {
   "cell_type": "code",
   "execution_count": 15,
   "metadata": {},
   "outputs": [
    {
     "data": {
      "text/html": [
       "<div>\n",
       "<style scoped>\n",
       "    .dataframe tbody tr th:only-of-type {\n",
       "        vertical-align: middle;\n",
       "    }\n",
       "\n",
       "    .dataframe tbody tr th {\n",
       "        vertical-align: top;\n",
       "    }\n",
       "\n",
       "    .dataframe thead th {\n",
       "        text-align: right;\n",
       "    }\n",
       "</style>\n",
       "<table border=\"1\" class=\"dataframe\">\n",
       "  <thead>\n",
       "    <tr style=\"text-align: right;\">\n",
       "      <th></th>\n",
       "      <th>proportion_reserved</th>\n",
       "    </tr>\n",
       "  </thead>\n",
       "  <tbody>\n",
       "    <tr>\n",
       "      <th>count</th>\n",
       "      <td>736.000000</td>\n",
       "    </tr>\n",
       "    <tr>\n",
       "      <th>mean</th>\n",
       "      <td>0.093497</td>\n",
       "    </tr>\n",
       "    <tr>\n",
       "      <th>std</th>\n",
       "      <td>0.105684</td>\n",
       "    </tr>\n",
       "    <tr>\n",
       "      <th>min</th>\n",
       "      <td>0.000000</td>\n",
       "    </tr>\n",
       "    <tr>\n",
       "      <th>25%</th>\n",
       "      <td>0.033197</td>\n",
       "    </tr>\n",
       "    <tr>\n",
       "      <th>50%</th>\n",
       "      <td>0.066667</td>\n",
       "    </tr>\n",
       "    <tr>\n",
       "      <th>75%</th>\n",
       "      <td>0.117647</td>\n",
       "    </tr>\n",
       "    <tr>\n",
       "      <th>max</th>\n",
       "      <td>1.000000</td>\n",
       "    </tr>\n",
       "  </tbody>\n",
       "</table>\n",
       "</div>"
      ],
      "text/plain": [
       "       proportion_reserved\n",
       "count           736.000000\n",
       "mean              0.093497\n",
       "std               0.105684\n",
       "min               0.000000\n",
       "25%               0.033197\n",
       "50%               0.066667\n",
       "75%               0.117647\n",
       "max               1.000000"
      ]
     },
     "execution_count": 15,
     "metadata": {},
     "output_type": "execute_result"
    }
   ],
   "source": [
    "X = df[features].fillna(0)\n",
    "y = df[target].values.ravel()\n",
    "\n",
    "X_train, X_test, y_train, y_test = train_test_split(X, y,\n",
    "                                                    random_state=101,\n",
    "                                                    test_size=0.33)\n",
    "df[target].describe()"
   ]
  },
  {
   "cell_type": "code",
   "execution_count": 17,
   "metadata": {},
   "outputs": [
    {
     "name": "stdout",
     "output_type": "stream",
     "text": [
      "Metrics for Random Forest Trained on Expanded Data\n",
      "Accuracy: 99.76 %\n",
      "Mean Absolute Error: 0.05\n"
     ]
    }
   ],
   "source": [
    "from sklearn.ensemble import RandomForestRegressor\n",
    "\n",
    "m = RandomForestRegressor(n_estimators=100, max_depth=25, criterion='mse',\n",
    "                            min_samples_leaf=3, min_samples_split=5)\n",
    "\n",
    "model = m.fit(X_train, y_train)\n",
    "\n",
    "# Make predictions on test data\n",
    "predictions = model.predict(X_test)\n",
    "\n",
    "# Performance metrics\n",
    "errors = abs(predictions - y_test)\n",
    "print('Metrics for Random Forest Trained on Expanded Data')\n",
    "n = len(y_test)\n",
    "\n",
    "# Calculate weighted mean absolute percentage error (MAPE)\n",
    "wmape = ((np.sum(errors) / np.sum(y_test)) * (100 / n))\n",
    "\n",
    "# Calculate and display accuracy\n",
    "accuracy = 100 - wmape\n",
    "print('Accuracy:', round(accuracy, 2), '%')\n",
    "\n",
    "# Print out the mean absolute error (mae)\n",
    "print('Mean Absolute Error:', round(np.mean(errors), 2))"
   ]
  },
  {
   "cell_type": "code",
   "execution_count": 18,
   "metadata": {},
   "outputs": [
    {
     "name": "stdout",
     "output_type": "stream",
     "text": [
      "Variable: cars_available       Importance: 0.24\n",
      "Variable: prop_my_2015         Importance: 0.11\n",
      "Variable: prop_escape          Importance: 0.1\n",
      "Variable: rolling_avg_spend    Importance: 0.08\n",
      "Variable: prop_other           Importance: 0.08\n",
      "Variable: prop_fusion          Importance: 0.07\n",
      "Variable: prop_focus           Importance: 0.05\n",
      "Variable: prop_mustang         Importance: 0.05\n",
      "Variable: spring               Importance: 0.04\n",
      "Variable: prop_explorer        Importance: 0.03\n",
      "Variable: prop_edge            Importance: 0.03\n",
      "Variable: fall                 Importance: 0.03\n",
      "Variable: prop_my_2016         Importance: 0.02\n",
      "Variable: los_angeles          Importance: 0.02\n",
      "Variable: prop_cmax_hybrid     Importance: 0.01\n",
      "Variable: prop_fiesta          Importance: 0.01\n",
      "Variable: prop_my_2017         Importance: 0.01\n",
      "Variable: san_francisco_bay_area Importance: 0.01\n",
      "Variable: summer               Importance: 0.0\n",
      "Variable: winter               Importance: 0.0\n"
     ]
    }
   ],
   "source": [
    "# Get numerical feature importances\n",
    "importances = list(m.feature_importances_)\n",
    "\n",
    "# List of tuples with variable and importance\n",
    "feature_importances = [(feature, round(importance, 2)) for feature, importance in zip(features, importances)]\n",
    "\n",
    "# Sort the feature importances by most important first\n",
    "feature_importances = sorted(feature_importances, key = lambda x: x[1], reverse = True)\n",
    "\n",
    "# Print out the feature and importances \n",
    "[print('Variable: {:20} Importance: {}'.format(*pair)) for pair in feature_importances];"
   ]
  },
  {
   "cell_type": "code",
   "execution_count": 54,
   "metadata": {},
   "outputs": [
    {
     "data": {
      "text/plain": [
       "Text(0.5, 1.0, 'Variable Importances')"
      ]
     },
     "execution_count": 54,
     "metadata": {},
     "output_type": "execute_result"
    },
    {
     "data": {
      "image/png": "[encoded data removed]",
      "text/plain": [
       "<Figure size 432x288 with 1 Axes>"
      ]
     },
     "metadata": {},
     "output_type": "display_data"
    }
   ],
   "source": [
    "sns.set(style='darkgrid')\n",
    "# list of x locations for plotting\n",
    "x_values = list(range(len(importances)))\n",
    "\n",
    "# Make a bar chart\n",
    "plt.bar(x_values, importances, orientation = 'vertical')\n",
    "\n",
    "# Tick labels for x axis\n",
    "plt.xticks(x_values, features, rotation='vertical')\n",
    "\n",
    "# Axis labels and title\n",
    "plt.ylabel('Importance') \n",
    "plt.xlabel('Variable')\n",
    "plt.title('Variable Importances')"
   ]
  },
  {
   "cell_type": "code",
   "execution_count": 55,
   "metadata": {},
   "outputs": [
    {
     "data": {
      "text/plain": [
       "Text(0.5, 1.0, 'Actual and Predicted Values')"
      ]
     },
     "execution_count": 55,
     "metadata": {},
     "output_type": "execute_result"
    },
    {
     "data": {
      "image/png": "[encoded data removed]",
      "text/plain": [
       "<Figure size 720x432 with 1 Axes>"
      ]
     },
     "metadata": {},
     "output_type": "display_data"
    }
   ],
   "source": [
    "# Use datetime for creating date objects for plotting\n",
    "import datetime\n",
    "\n",
    "sns.set(style='darkgrid')\n",
    "\n",
    "# Dataframe with true values and dates\n",
    "true_data = pd.DataFrame(data = {'date': df['date_start'], 'actual': df['proportion_reserved']})\n",
    "\n",
    "# Dataframe with predictions and dates\n",
    "predictions = model.predict(X)\n",
    "predictions_data = pd.DataFrame(data = {'date': df['date_start'], 'prediction': predictions})\n",
    "\n",
    "fig, ax = plt.subplots(figsize=(10,6))\n",
    "# Plot the actual values\n",
    "ax.plot(true_data['date'], true_data['actual'], 'b-', label = 'actual')\n",
    "\n",
    "# Plot the predicted values\n",
    "ax.plot(predictions_data['date'], predictions_data['prediction'], 'ro', markersize=3, label = 'prediction')\n",
    "\n",
    "plt.xticks(rotation = '60')\n",
    "plt.legend()\n",
    "plt.xlabel('Date')\n",
    "plt.ylabel('Proportion Reserved')\n",
    "plt.title('Actual and Predicted Values')"
   ]
  },
  {
   "cell_type": "code",
   "execution_count": 57,
   "metadata": {},
   "outputs": [],
   "source": [
    "param_grid = {\"max_features\" : [\"auto\", \"sqrt\", \"log2\"],\n",
    "              \"n_estimators\" : [10, 50, 100],\n",
    "              \"max_depth\" : [30, 40, 50, 60, 70],\n",
    "              \"min_samples_leaf\" : [30, 40, 50, 100],\n",
    "              \"min_samples_split\" : [2, 5, 10]}"
   ]
  },
  {
   "cell_type": "code",
   "execution_count": 58,
   "metadata": {},
   "outputs": [],
   "source": [
    "CV = GridSearchCV(estimator=m, param_grid=param_grid, cv=5, n_jobs=-1)"
   ]
  },
  {
   "cell_type": "code",
   "execution_count": 60,
   "metadata": {},
   "outputs": [],
   "source": [
    "# CV.fit(X_train, y_train)\n",
    "# print(\"\\nBest Params:\")\n",
    "# print(CV.best_params_)"
   ]
  },
  {
   "cell_type": "code",
   "execution_count": 61,
   "metadata": {},
   "outputs": [],
   "source": [
    "conn.close()"
   ]
  },
  {
   "cell_type": "code",
   "execution_count": null,
   "metadata": {},
   "outputs": [],
   "source": [
    "rv.info()"
   ]
  },
  {
   "cell_type": "code",
   "execution_count": null,
   "metadata": {},
   "outputs": [],
   "source": [
    "rv['proportion_reserved'] = rv['reservations']/rv['cars_available']"
   ]
  },
  {
   "cell_type": "code",
   "execution_count": null,
   "metadata": {},
   "outputs": [],
   "source": [
    "rv.corr()"
   ]
  },
  {
   "cell_type": "code",
   "execution_count": null,
   "metadata": {},
   "outputs": [],
   "source": [
    "sns.distplot(rv[['reservations']], bins=10)"
   ]
  },
  {
   "cell_type": "code",
   "execution_count": null,
   "metadata": {},
   "outputs": [],
   "source": [
    "sns.distplot(rv[['cars_available']])"
   ]
  },
  {
   "cell_type": "code",
   "execution_count": null,
   "metadata": {},
   "outputs": [],
   "source": [
    "sns.distplot(rv['proportion_reserved'], bins=20)"
   ]
  },
  {
   "cell_type": "code",
   "execution_count": null,
   "metadata": {},
   "outputs": [],
   "source": [
    "sns.distplot(rv[['daily_spend']])"
   ]
  },
  {
   "cell_type": "code",
   "execution_count": null,
   "metadata": {},
   "outputs": [],
   "source": [
    "rv['ln_prop_reservations'] = rv['proportion_reserved'].apply(lambda x: np.log(x+1))"
   ]
  },
  {
   "cell_type": "code",
   "execution_count": null,
   "metadata": {},
   "outputs": [],
   "source": [
    "rv[['reservations', 'ln_prop_reservations']].head(10)"
   ]
  },
  {
   "cell_type": "code",
   "execution_count": null,
   "metadata": {},
   "outputs": [],
   "source": [
    "sns.distplot(rv[['ln_prop_reservations']], bins = 30,)"
   ]
  },
  {
   "cell_type": "code",
   "execution_count": null,
   "metadata": {},
   "outputs": [],
   "source": [
    "rv['rolling_avg_spend'] = rv['daily_spend'].rolling(10, min_periods=1).mean()\n",
    "rv['rolling_avg_spend'].describe()"
   ]
  },
  {
   "cell_type": "code",
   "execution_count": null,
   "metadata": {},
   "outputs": [],
   "source": [
    "def season(month):\n",
    "    if np.isin(month, ['Dec','Jan','Feb']) == True:\n",
    "        return 'winter'\n",
    "    elif np.isin(month, ['Mar','Apr','May']) == True:\n",
    "        return 'spring'\n",
    "    elif np.isin(month, ['Jun','Jul','Aug']) == True:\n",
    "        return 'summer'\n",
    "    else:\n",
    "        return 'fall'\n",
    "\n",
    "rv['season'] = rv['month'].apply(lambda x: season(x))"
   ]
  },
  {
   "cell_type": "code",
   "execution_count": null,
   "metadata": {},
   "outputs": [],
   "source": [
    "rv['year'] = rv['date_start'].apply(lambda x: x.year)"
   ]
  },
  {
   "cell_type": "code",
   "execution_count": null,
   "metadata": {},
   "outputs": [],
   "source": [
    "mylist = ['focus','fusion','escape','explorer','edge','mustang','cmax_hybrid','fiesta','other','my_2015','my_2016','my_2017']\n",
    "\n",
    "for var in mylist:\n",
    "    new_prop = rv[var] / rv['cars_available']\n",
    "    new_prop = pd.DataFrame(new_prop, columns=[('prop_' + str(var)).lower()])\n",
    "    rv = pd.merge(rv, new_prop, left_index=True, right_index=True)"
   ]
  },
  {
   "cell_type": "code",
   "execution_count": null,
   "metadata": {},
   "outputs": [],
   "source": [
    "rv.head()"
   ]
  },
  {
   "cell_type": "code",
   "execution_count": null,
   "metadata": {},
   "outputs": [],
   "source": [
    "dummies1 = pd.get_dummies(rv['season'])\n",
    "dummies2 = pd.get_dummies(rv['region'])\n",
    "rv['week_num'] = rv['week_num'].astype(int)\n",
    "\n",
    "reg = pd.concat([rv, dummies1, dummies2], axis=1)\n",
    "reg = reg[reg['year']==2018]\n",
    "reg.describe()"
   ]
  },
  {
   "cell_type": "code",
   "execution_count": null,
   "metadata": {},
   "outputs": [],
   "source": [
    "reg.columns"
   ]
  },
  {
   "cell_type": "code",
   "execution_count": null,
   "metadata": {},
   "outputs": [],
   "source": [
    "X = reg[['day_num', 'week_num', 'rolling_avg_spend', 'cars_available', \n",
    "           'prop_focus', 'prop_fusion',\n",
    "           'prop_escape', 'prop_explorer', 'prop_edge', 'prop_mustang',\n",
    "           'prop_cmax_hybrid', 'prop_fiesta', 'prop_other', \n",
    "           'prop_my_2015', 'prop_my_2016','prop_my_2017', \n",
    "           'spring', 'summer', 'fall', 'Los Angeles']]\n",
    "# X = reg[['rolling_avg_spend', 'focus', 'fusion', 'escape', 'cars_available', \n",
    "#             'my_2016', 'my_2017', 'spring', 'summer', 'fall', 'Los Angeles']]\n",
    "y = reg[['proportion_reserved']]\n",
    "# y = reg['ln_reservations']"
   ]
  },
  {
   "cell_type": "code",
   "execution_count": null,
   "metadata": {},
   "outputs": [],
   "source": [
    "# fig, ax = plt.subplots(figsize=(28,16))\n",
    "# sns.heatmap(reg.corr(), cmap='coolwarm', annot=True)"
   ]
  },
  {
   "cell_type": "code",
   "execution_count": null,
   "metadata": {},
   "outputs": [],
   "source": [
    "X_train, X_test, y_train, y_test = train_test_split(X, y, test_size=0.3, random_state=101)"
   ]
  },
  {
   "cell_type": "code",
   "execution_count": null,
   "metadata": {},
   "outputs": [],
   "source": [
    "import statsmodels.api as sm "
   ]
  },
  {
   "cell_type": "code",
   "execution_count": null,
   "metadata": {},
   "outputs": [],
   "source": [
    "X_train = sm.add_constant(X_train) ## let's add an intercept (beta_0) to our model\n",
    "X_test = sm.add_constant(X_test)\n",
    "\n",
    "# Note the difference in argument order\n",
    "model = sm.OLS(y_train, X_train).fit() ## sm.OLS(output, input)\n",
    "ols_preds = model.predict(X_test)\n",
    "\n",
    "# Print out the statistics\n",
    "model.summary()"
   ]
  },
  {
   "cell_type": "code",
   "execution_count": null,
   "metadata": {},
   "outputs": [],
   "source": [
    "sns.set(font_scale=1.1)\n",
    "x = np.asarray(range(0,2))\n",
    "y = np.asarray(range(0,2))\n",
    "plt.plot(x, y, color='k')\n",
    "sns.regplot(y_test, ols_preds, fit_reg=False, color='#0000ff', scatter_kws={\"edgecolor\":'w', \"linewidth\": 0.7})\n",
    "plt.xlabel('Actual Reservations')\n",
    "plt.ylabel('Predicted Reservations')"
   ]
  },
  {
   "cell_type": "code",
   "execution_count": null,
   "metadata": {},
   "outputs": [],
   "source": [
    "from sklearn.tree import DecisionTreeRegressor\n",
    "from sklearn.model_selection import cross_val_score\n",
    "from sklearn.metrics import r2_score\n",
    "from sklearn.metrics import mean_squared_error\n",
    "\n",
    "# Fit regression model\n",
    "dtr = DecisionTreeRegressor(max_depth=2, min_samples_split=6, min_samples_leaf=5)\n",
    "dtr.fit(X_train, y_train)\n",
    "\n",
    "# Predict\n",
    "y_pred =dtr.predict(X_test)\n",
    "print(dtr.feature_importances_)\n",
    "\n",
    "# Get Metrics\n",
    "dt_scores = cross_val_score(dtr, X_train, y_train, cv = 5)\n",
    "print(\"mean cross validation score: {}\".format(np.mean(dt_scores)))\n",
    "print(\"score without cv: {}\".format(dtr.score(X_train, y_train)))\n",
    "print(\"root mean squared error: {}\".format(np.sqrt(mean_squared_error(y_test, y_pred))))\n",
    "\n",
    "# on the test or hold-out set\n",
    "print(dtr.score(X_test, y_test))\n"
   ]
  },
  {
   "cell_type": "code",
   "execution_count": null,
   "metadata": {},
   "outputs": [],
   "source": [
    "from sklearn.ensemble import RandomForestRegressor\n",
    "from sklearn.model_selection import cross_val_score\n",
    "from sklearn.metrics import r2_score\n",
    "from sklearn.metrics import mean_squared_error\n",
    "\n",
    "X_train, X_test, y_train, y_test = train_test_split(X.as_matrix(), y.as_matrix().ravel(), test_size=0.3, random_state=101)\n",
    "\n",
    "# Fit regression model\n",
    "rfr = RandomForestRegressor(max_depth=2, n_estimators=100, min_samples_split=8, min_samples_leaf=5)\n",
    "rfr.fit(X_train, y_train)\n",
    "\n",
    "# Predict\n",
    "y_pred = rfr.predict(X_test)\n",
    "\n",
    "# Get Metrics\n",
    "dt_scores = cross_val_score(rfr, X_train, y_train, cv = 5)\n",
    "print(\"mean cross validation score: {}\".format(np.mean(dt_scores)))\n",
    "print(\"score without cv: {}\".format(rfr.score(X_train, y_train)))\n",
    "print(\"root mean squared error: {}\".format(np.sqrt(mean_squared_error(y_test, y_pred))))\n",
    "\n",
    "# on the test or hold-out set\n",
    "print(rfr.score(X_test, y_test))"
   ]
  },
  {
   "cell_type": "code",
   "execution_count": null,
   "metadata": {},
   "outputs": [],
   "source": []
  }
 ],
 "metadata": {
  "kernelspec": {
   "display_name": "Python 3",
   "language": "python",
   "name": "python3"
  },
  "language_info": {
   "codemirror_mode": {
    "name": "ipython",
    "version": 3
   },
   "file_extension": ".py",
   "mimetype": "text/x-python",
   "name": "python",
   "nbconvert_exporter": "python",
   "pygments_lexer": "ipython3",
   "version": "3.6.6"
  }
 },
 "nbformat": 4,
 "nbformat_minor": 2
}
